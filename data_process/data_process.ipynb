{
 "cells": [
  {
   "cell_type": "markdown",
   "metadata": {},
   "source": [
    "# This Notebook is for data processing development"
   ]
  },
  {
   "cell_type": "markdown",
   "metadata": {},
   "source": [
    "Here we will calculate the model parameters"
   ]
  },
  {
   "cell_type": "code",
   "execution_count": 1,
   "metadata": {},
   "outputs": [],
   "source": [
    "import pandas as pd"
   ]
  },
  {
   "cell_type": "code",
   "execution_count": 2,
   "metadata": {},
   "outputs": [],
   "source": [
    "data = pd.read_csv('./../data/database.csv', sep=';')"
   ]
  },
  {
   "cell_type": "code",
   "execution_count": 3,
   "metadata": {},
   "outputs": [
    {
     "data": {
      "text/html": [
       "<div>\n",
       "<style scoped>\n",
       "    .dataframe tbody tr th:only-of-type {\n",
       "        vertical-align: middle;\n",
       "    }\n",
       "\n",
       "    .dataframe tbody tr th {\n",
       "        vertical-align: top;\n",
       "    }\n",
       "\n",
       "    .dataframe thead th {\n",
       "        text-align: right;\n",
       "    }\n",
       "</style>\n",
       "<table border=\"1\" class=\"dataframe\">\n",
       "  <thead>\n",
       "    <tr style=\"text-align: right;\">\n",
       "      <th></th>\n",
       "      <th>ID_PROBLEMA</th>\n",
       "      <th>ID_PACIENTE</th>\n",
       "      <th>ID PACIENTE</th>\n",
       "      <th>ID MÉDICO</th>\n",
       "      <th>ID_LUGAR</th>\n",
       "      <th>CENTRO</th>\n",
       "      <th>FECHA_EVOLUCION</th>\n",
       "      <th>ETIQUETA_GES</th>\n",
       "      <th>ID_AGRUPADOR</th>\n",
       "      <th>POTENCIAL_1</th>\n",
       "      <th>POTENCIAL_2</th>\n",
       "      <th>POTENCIAL_3</th>\n",
       "    </tr>\n",
       "  </thead>\n",
       "  <tbody>\n",
       "    <tr>\n",
       "      <td>0</td>\n",
       "      <td>17648485</td>\n",
       "      <td>211402</td>\n",
       "      <td>1399</td>\n",
       "      <td>1</td>\n",
       "      <td>21.0</td>\n",
       "      <td>CMD PEDRO DE VALDIVIA</td>\n",
       "      <td>29/07/2019</td>\n",
       "      <td>POSIBLE</td>\n",
       "      <td>59.0</td>\n",
       "      <td>56.0</td>\n",
       "      <td>NaN</td>\n",
       "      <td>NaN</td>\n",
       "    </tr>\n",
       "    <tr>\n",
       "      <td>1</td>\n",
       "      <td>17644905</td>\n",
       "      <td>5845159</td>\n",
       "      <td>1399</td>\n",
       "      <td>1</td>\n",
       "      <td>21.0</td>\n",
       "      <td>CMD PEDRO DE VALDIVIA</td>\n",
       "      <td>29/07/2019</td>\n",
       "      <td>NO GES</td>\n",
       "      <td>77.0</td>\n",
       "      <td>56.0</td>\n",
       "      <td>NaN</td>\n",
       "      <td>NaN</td>\n",
       "    </tr>\n",
       "    <tr>\n",
       "      <td>2</td>\n",
       "      <td>17730364</td>\n",
       "      <td>10199783</td>\n",
       "      <td>1399</td>\n",
       "      <td>1</td>\n",
       "      <td>21.0</td>\n",
       "      <td>CMD PEDRO DE VALDIVIA</td>\n",
       "      <td>29/07/2019</td>\n",
       "      <td>POSIBLE</td>\n",
       "      <td>56.0</td>\n",
       "      <td>NaN</td>\n",
       "      <td>NaN</td>\n",
       "      <td>NaN</td>\n",
       "    </tr>\n",
       "    <tr>\n",
       "      <td>3</td>\n",
       "      <td>17677869</td>\n",
       "      <td>10824784</td>\n",
       "      <td>5268</td>\n",
       "      <td>1</td>\n",
       "      <td>21.0</td>\n",
       "      <td>CMD PEDRO DE VALDIVIA</td>\n",
       "      <td>02/08/2019</td>\n",
       "      <td>NaN</td>\n",
       "      <td>NaN</td>\n",
       "      <td>76.0</td>\n",
       "      <td>NaN</td>\n",
       "      <td>NaN</td>\n",
       "    </tr>\n",
       "    <tr>\n",
       "      <td>4</td>\n",
       "      <td>17656698</td>\n",
       "      <td>3767945</td>\n",
       "      <td>5751</td>\n",
       "      <td>1</td>\n",
       "      <td>21.0</td>\n",
       "      <td>CMD PEDRO DE VALDIVIA</td>\n",
       "      <td>09/08/2019</td>\n",
       "      <td>NO GES</td>\n",
       "      <td>56.0</td>\n",
       "      <td>NaN</td>\n",
       "      <td>NaN</td>\n",
       "      <td>NaN</td>\n",
       "    </tr>\n",
       "  </tbody>\n",
       "</table>\n",
       "</div>"
      ],
      "text/plain": [
       "  ID_PROBLEMA  ID_PACIENTE  ID PACIENTE  ID MÉDICO  ID_LUGAR  \\\n",
       "0    17648485       211402         1399          1      21.0   \n",
       "1    17644905      5845159         1399          1      21.0   \n",
       "2    17730364     10199783         1399          1      21.0   \n",
       "3    17677869     10824784         5268          1      21.0   \n",
       "4    17656698      3767945         5751          1      21.0   \n",
       "\n",
       "                  CENTRO FECHA_EVOLUCION ETIQUETA_GES  ID_AGRUPADOR  \\\n",
       "0  CMD PEDRO DE VALDIVIA      29/07/2019      POSIBLE          59.0   \n",
       "1  CMD PEDRO DE VALDIVIA      29/07/2019       NO GES          77.0   \n",
       "2  CMD PEDRO DE VALDIVIA      29/07/2019      POSIBLE          56.0   \n",
       "3  CMD PEDRO DE VALDIVIA      02/08/2019          NaN           NaN   \n",
       "4  CMD PEDRO DE VALDIVIA      09/08/2019       NO GES          56.0   \n",
       "\n",
       "   POTENCIAL_1  POTENCIAL_2  POTENCIAL_3  \n",
       "0         56.0          NaN          NaN  \n",
       "1         56.0          NaN          NaN  \n",
       "2          NaN          NaN          NaN  \n",
       "3         76.0          NaN          NaN  \n",
       "4          NaN          NaN          NaN  "
      ]
     },
     "execution_count": 3,
     "metadata": {},
     "output_type": "execute_result"
    }
   ],
   "source": [
    "data.head()"
   ]
  },
  {
   "cell_type": "markdown",
   "metadata": {},
   "source": [
    "# Add id to medical centers"
   ]
  },
  {
   "cell_type": "code",
   "execution_count": 4,
   "metadata": {},
   "outputs": [],
   "source": [
    "medical_centers = data.CENTRO.unique()"
   ]
  },
  {
   "cell_type": "code",
   "execution_count": 5,
   "metadata": {},
   "outputs": [
    {
     "data": {
      "text/plain": [
       "array(['CMD PEDRO DE VALDIVIA', 'CMD IQUIQUE', 'CMD ALAMEDA', 'CMD ÑUÑOA',\n",
       "       'CMD LA FLORIDA', 'CMD VALDIVIA', 'CMD QUILICURA',\n",
       "       'CMD VIÑA DEL MAR', 'CMD SAN BERNARDO', 'CMD MUELLE BARON',\n",
       "       'CMD MAIPU', 'CMD CONCEPCION', 'CMD OSORNO', 'CMD SAN MIGUEL',\n",
       "       'CMD ANTOFAGASTA', 'CMD RANCAGUA', 'CMD PUENTE ALTO',\n",
       "       'CMD PUERTO MONTT', 'CMD TEMUCO CENTRO', 'CMD CHILLAN', 'CD ELQUI',\n",
       "       'CMD PUNTA ARENAS', 'CMD CONCHALI', 'CD KENNEDY',\n",
       "       'CMD LOS ANGELES', 'CMD QUILPUE', 'CMD CALAMA', 'CMD ARICA',\n",
       "       'CMD TALCA', 'CD PUENTE ALTO', 'CD LA REINA', 'CD INDEPENDENCIA',\n",
       "       'CD PASEO ESTACION', 'CD PEÑALOLEN'], dtype=object)"
      ]
     },
     "execution_count": 5,
     "metadata": {},
     "output_type": "execute_result"
    }
   ],
   "source": [
    "# fix string format\n",
    "for i in range(len(medical_centers)):\n",
    "    medical_centers[i] = medical_centers[i].replace('\\xa0', ' ')\n",
    "medical_centers"
   ]
  },
  {
   "cell_type": "code",
   "execution_count": 21,
   "metadata": {},
   "outputs": [],
   "source": [
    "enumerated = list(enumerate(medical_centers, start=1))"
   ]
  },
  {
   "cell_type": "code",
   "execution_count": 22,
   "metadata": {},
   "outputs": [],
   "source": [
    "for index, row in data.iterrows():\n",
    "    for med in enumerated:\n",
    "        if row['CENTRO'] == med[1]:\n",
    "            data.loc[index, 'ID_LUGAR'] = med[0]"
   ]
  },
  {
   "cell_type": "code",
   "execution_count": 23,
   "metadata": {},
   "outputs": [
    {
     "data": {
      "text/plain": [
       "array([ 1.,  2., 27., 25., 23., 17.,  7., 29., 10., 22., 13., 18., 14.,\n",
       "        4., 24., 19., 21., 20., 28., 16.,  9.,  5., 12., 30., 31., 32.,\n",
       "       33., 34.])"
      ]
     },
     "execution_count": 23,
     "metadata": {},
     "output_type": "execute_result"
    }
   ],
   "source": [
    "data.ID_LUGAR.unique()"
   ]
  },
  {
   "cell_type": "code",
   "execution_count": 24,
   "metadata": {},
   "outputs": [],
   "source": [
    "# data.to_csv(r'./new.csv')"
   ]
  },
  {
   "cell_type": "code",
   "execution_count": 25,
   "metadata": {},
   "outputs": [
    {
     "data": {
      "text/html": [
       "<div>\n",
       "<style scoped>\n",
       "    .dataframe tbody tr th:only-of-type {\n",
       "        vertical-align: middle;\n",
       "    }\n",
       "\n",
       "    .dataframe tbody tr th {\n",
       "        vertical-align: top;\n",
       "    }\n",
       "\n",
       "    .dataframe thead th {\n",
       "        text-align: right;\n",
       "    }\n",
       "</style>\n",
       "<table border=\"1\" class=\"dataframe\">\n",
       "  <thead>\n",
       "    <tr style=\"text-align: right;\">\n",
       "      <th></th>\n",
       "      <th>ID_PROBLEMA</th>\n",
       "      <th>ID_PACIENTE</th>\n",
       "      <th>ID PACIENTE</th>\n",
       "      <th>ID MÉDICO</th>\n",
       "      <th>ID_LUGAR</th>\n",
       "      <th>CENTRO</th>\n",
       "      <th>FECHA_EVOLUCION</th>\n",
       "      <th>ETIQUETA_GES</th>\n",
       "      <th>ID_AGRUPADOR</th>\n",
       "      <th>POTENCIAL_1</th>\n",
       "      <th>POTENCIAL_2</th>\n",
       "      <th>POTENCIAL_3</th>\n",
       "    </tr>\n",
       "  </thead>\n",
       "  <tbody>\n",
       "    <tr>\n",
       "      <td>0</td>\n",
       "      <td>17648485</td>\n",
       "      <td>211402</td>\n",
       "      <td>1399</td>\n",
       "      <td>1</td>\n",
       "      <td>1.0</td>\n",
       "      <td>CMD PEDRO DE VALDIVIA</td>\n",
       "      <td>29/07/2019</td>\n",
       "      <td>POSIBLE</td>\n",
       "      <td>59.0</td>\n",
       "      <td>56.0</td>\n",
       "      <td>NaN</td>\n",
       "      <td>NaN</td>\n",
       "    </tr>\n",
       "    <tr>\n",
       "      <td>1</td>\n",
       "      <td>17644905</td>\n",
       "      <td>5845159</td>\n",
       "      <td>1399</td>\n",
       "      <td>1</td>\n",
       "      <td>1.0</td>\n",
       "      <td>CMD PEDRO DE VALDIVIA</td>\n",
       "      <td>29/07/2019</td>\n",
       "      <td>NO GES</td>\n",
       "      <td>77.0</td>\n",
       "      <td>56.0</td>\n",
       "      <td>NaN</td>\n",
       "      <td>NaN</td>\n",
       "    </tr>\n",
       "    <tr>\n",
       "      <td>2</td>\n",
       "      <td>17730364</td>\n",
       "      <td>10199783</td>\n",
       "      <td>1399</td>\n",
       "      <td>1</td>\n",
       "      <td>1.0</td>\n",
       "      <td>CMD PEDRO DE VALDIVIA</td>\n",
       "      <td>29/07/2019</td>\n",
       "      <td>POSIBLE</td>\n",
       "      <td>56.0</td>\n",
       "      <td>NaN</td>\n",
       "      <td>NaN</td>\n",
       "      <td>NaN</td>\n",
       "    </tr>\n",
       "    <tr>\n",
       "      <td>3</td>\n",
       "      <td>17677869</td>\n",
       "      <td>10824784</td>\n",
       "      <td>5268</td>\n",
       "      <td>1</td>\n",
       "      <td>1.0</td>\n",
       "      <td>CMD PEDRO DE VALDIVIA</td>\n",
       "      <td>02/08/2019</td>\n",
       "      <td>NaN</td>\n",
       "      <td>NaN</td>\n",
       "      <td>76.0</td>\n",
       "      <td>NaN</td>\n",
       "      <td>NaN</td>\n",
       "    </tr>\n",
       "    <tr>\n",
       "      <td>4</td>\n",
       "      <td>17656698</td>\n",
       "      <td>3767945</td>\n",
       "      <td>5751</td>\n",
       "      <td>1</td>\n",
       "      <td>1.0</td>\n",
       "      <td>CMD PEDRO DE VALDIVIA</td>\n",
       "      <td>09/08/2019</td>\n",
       "      <td>NO GES</td>\n",
       "      <td>56.0</td>\n",
       "      <td>NaN</td>\n",
       "      <td>NaN</td>\n",
       "      <td>NaN</td>\n",
       "    </tr>\n",
       "  </tbody>\n",
       "</table>\n",
       "</div>"
      ],
      "text/plain": [
       "  ID_PROBLEMA  ID_PACIENTE  ID PACIENTE  ID MÉDICO  ID_LUGAR  \\\n",
       "0    17648485       211402         1399          1       1.0   \n",
       "1    17644905      5845159         1399          1       1.0   \n",
       "2    17730364     10199783         1399          1       1.0   \n",
       "3    17677869     10824784         5268          1       1.0   \n",
       "4    17656698      3767945         5751          1       1.0   \n",
       "\n",
       "                  CENTRO FECHA_EVOLUCION ETIQUETA_GES  ID_AGRUPADOR  \\\n",
       "0  CMD PEDRO DE VALDIVIA      29/07/2019      POSIBLE          59.0   \n",
       "1  CMD PEDRO DE VALDIVIA      29/07/2019       NO GES          77.0   \n",
       "2  CMD PEDRO DE VALDIVIA      29/07/2019      POSIBLE          56.0   \n",
       "3  CMD PEDRO DE VALDIVIA      02/08/2019          NaN           NaN   \n",
       "4  CMD PEDRO DE VALDIVIA      09/08/2019       NO GES          56.0   \n",
       "\n",
       "   POTENCIAL_1  POTENCIAL_2  POTENCIAL_3  \n",
       "0         56.0          NaN          NaN  \n",
       "1         56.0          NaN          NaN  \n",
       "2          NaN          NaN          NaN  \n",
       "3         76.0          NaN          NaN  \n",
       "4          NaN          NaN          NaN  "
      ]
     },
     "execution_count": 25,
     "metadata": {},
     "output_type": "execute_result"
    }
   ],
   "source": [
    "data.head()"
   ]
  },
  {
   "cell_type": "markdown",
   "metadata": {},
   "source": []
  }
 ],
 "metadata": {
  "kernelspec": {
   "display_name": "Python 3",
   "language": "python",
   "name": "python3"
  },
  "language_info": {
   "codemirror_mode": {
    "name": "ipython",
    "version": 3
   },
   "file_extension": ".py",
   "mimetype": "text/x-python",
   "name": "python",
   "nbconvert_exporter": "python",
   "pygments_lexer": "ipython3",
   "version": "3.7.4"
  }
 },
 "nbformat": 4,
 "nbformat_minor": 4
}
